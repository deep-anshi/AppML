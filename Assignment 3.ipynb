{
 "cells": [
  {
   "cell_type": "markdown",
   "metadata": {},
   "source": [
    "## QBS108: MACHINE LEARNING\n",
    "\n",
    "**HW3** \n",
    "\n",
    "Deepanshi Shokeen"
   ]
  },
  {
   "cell_type": "markdown",
   "metadata": {},
   "source": [
    "**PART 1**"
   ]
  },
  {
   "cell_type": "code",
   "execution_count": 1,
   "metadata": {},
   "outputs": [],
   "source": [
    "# Importing Libraries\n",
    "\n",
    "import numpy as np\n",
    "import pandas as pd\n",
    "import math\n",
    "from matplotlib import pyplot as plt\n",
    "from sklearn import metrics\n",
    "import seaborn as sns\n",
    "from sklearn.model_selection import train_test_split, GridSearchCV\n",
    "from sklearn.metrics import roc_curve, auc, confusion_matrix, classification_report,accuracy_score\n",
    "import warnings\n",
    "warnings.filterwarnings('ignore')\n",
    "%matplotlib inline\n",
    "from sklearn.manifold import TSNE\n",
    "import time"
   ]
  },
  {
   "cell_type": "code",
   "execution_count": 2,
   "metadata": {},
   "outputs": [
    {
     "name": "stdout",
     "output_type": "stream",
     "text": [
      "(300, 26)\n",
      "(100, 24)\n",
      "(300, 24)\n"
     ]
    }
   ],
   "source": [
    "data = pd.read_csv('hw3_labeled_data.csv')\n",
    "print(data.shape)\n",
    "test = pd.read_csv('hw3_unlabeled_data.csv')\n",
    "test = test.iloc[:,1:25]\n",
    "print(test.shape)\n",
    "\n",
    "\n",
    "# Getting labels and features for training data \n",
    "x=data.iloc[:,1:25]\n",
    "y=data.iloc[:,-1]\n",
    "print(x.shape)"
   ]
  },
  {
   "cell_type": "markdown",
   "metadata": {},
   "source": [
    "We are looking at the data of patients where the label is 1 or 0 i.e if the patient has kidney disease or not.\n",
    "\n",
    "Some of the risk factors or causes can be, High blood pressure,  diabetes, race, obesity, older age, kidney structure or family history. From the above variables it would be interested to look at the feature age and if it plays an important role in predicting if the patient has kidney disease or not. Another important feature is 'rbc' etc."
   ]
  },
  {
   "cell_type": "markdown",
   "metadata": {},
   "source": [
    "EXPLORING THE DATA BELOW"
   ]
  },
  {
   "cell_type": "code",
   "execution_count": 3,
   "metadata": {},
   "outputs": [
    {
     "data": {
      "text/html": [
       "<div>\n",
       "<style scoped>\n",
       "    .dataframe tbody tr th:only-of-type {\n",
       "        vertical-align: middle;\n",
       "    }\n",
       "\n",
       "    .dataframe tbody tr th {\n",
       "        vertical-align: top;\n",
       "    }\n",
       "\n",
       "    .dataframe thead th {\n",
       "        text-align: right;\n",
       "    }\n",
       "</style>\n",
       "<table border=\"1\" class=\"dataframe\">\n",
       "  <thead>\n",
       "    <tr style=\"text-align: right;\">\n",
       "      <th></th>\n",
       "      <th>age</th>\n",
       "      <th>bp</th>\n",
       "      <th>sg</th>\n",
       "      <th>al</th>\n",
       "      <th>su</th>\n",
       "      <th>rbc</th>\n",
       "      <th>pc</th>\n",
       "      <th>pcc</th>\n",
       "      <th>ba</th>\n",
       "      <th>bgr</th>\n",
       "      <th>...</th>\n",
       "      <th>pcv</th>\n",
       "      <th>wc</th>\n",
       "      <th>rc</th>\n",
       "      <th>htn</th>\n",
       "      <th>dm</th>\n",
       "      <th>cad</th>\n",
       "      <th>appet</th>\n",
       "      <th>pe</th>\n",
       "      <th>ane</th>\n",
       "      <th>classification</th>\n",
       "    </tr>\n",
       "  </thead>\n",
       "  <tbody>\n",
       "    <tr>\n",
       "      <th>count</th>\n",
       "      <td>300.000000</td>\n",
       "      <td>300.000000</td>\n",
       "      <td>300.000000</td>\n",
       "      <td>300.000000</td>\n",
       "      <td>300.0000</td>\n",
       "      <td>300.000000</td>\n",
       "      <td>300.000000</td>\n",
       "      <td>300.000000</td>\n",
       "      <td>300.000000</td>\n",
       "      <td>300.000000</td>\n",
       "      <td>...</td>\n",
       "      <td>300.000000</td>\n",
       "      <td>300.000000</td>\n",
       "      <td>300.000000</td>\n",
       "      <td>300.000000</td>\n",
       "      <td>300.000000</td>\n",
       "      <td>300.000000</td>\n",
       "      <td>300.000000</td>\n",
       "      <td>300.00000</td>\n",
       "      <td>300.000000</td>\n",
       "      <td>300.000000</td>\n",
       "    </tr>\n",
       "    <tr>\n",
       "      <th>mean</th>\n",
       "      <td>50.990000</td>\n",
       "      <td>76.433333</td>\n",
       "      <td>1.017233</td>\n",
       "      <td>0.993333</td>\n",
       "      <td>0.4500</td>\n",
       "      <td>0.706667</td>\n",
       "      <td>0.776667</td>\n",
       "      <td>0.103333</td>\n",
       "      <td>0.050000</td>\n",
       "      <td>147.133333</td>\n",
       "      <td>...</td>\n",
       "      <td>38.646667</td>\n",
       "      <td>8642.000000</td>\n",
       "      <td>4.569667</td>\n",
       "      <td>0.346667</td>\n",
       "      <td>0.333333</td>\n",
       "      <td>0.066667</td>\n",
       "      <td>0.790000</td>\n",
       "      <td>0.17000</td>\n",
       "      <td>0.143333</td>\n",
       "      <td>0.606667</td>\n",
       "    </tr>\n",
       "    <tr>\n",
       "      <th>std</th>\n",
       "      <td>17.339514</td>\n",
       "      <td>13.121973</td>\n",
       "      <td>0.005697</td>\n",
       "      <td>1.300870</td>\n",
       "      <td>1.0854</td>\n",
       "      <td>0.456051</td>\n",
       "      <td>0.417176</td>\n",
       "      <td>0.304902</td>\n",
       "      <td>0.218309</td>\n",
       "      <td>80.246207</td>\n",
       "      <td>...</td>\n",
       "      <td>8.715217</td>\n",
       "      <td>3129.934659</td>\n",
       "      <td>1.020024</td>\n",
       "      <td>0.476704</td>\n",
       "      <td>0.472192</td>\n",
       "      <td>0.249861</td>\n",
       "      <td>0.407989</td>\n",
       "      <td>0.37626</td>\n",
       "      <td>0.350998</td>\n",
       "      <td>0.489306</td>\n",
       "    </tr>\n",
       "    <tr>\n",
       "      <th>min</th>\n",
       "      <td>2.000000</td>\n",
       "      <td>50.000000</td>\n",
       "      <td>1.005000</td>\n",
       "      <td>0.000000</td>\n",
       "      <td>0.0000</td>\n",
       "      <td>0.000000</td>\n",
       "      <td>0.000000</td>\n",
       "      <td>0.000000</td>\n",
       "      <td>0.000000</td>\n",
       "      <td>22.000000</td>\n",
       "      <td>...</td>\n",
       "      <td>15.000000</td>\n",
       "      <td>2200.000000</td>\n",
       "      <td>2.100000</td>\n",
       "      <td>0.000000</td>\n",
       "      <td>0.000000</td>\n",
       "      <td>0.000000</td>\n",
       "      <td>0.000000</td>\n",
       "      <td>0.00000</td>\n",
       "      <td>0.000000</td>\n",
       "      <td>0.000000</td>\n",
       "    </tr>\n",
       "    <tr>\n",
       "      <th>25%</th>\n",
       "      <td>41.000000</td>\n",
       "      <td>70.000000</td>\n",
       "      <td>1.010000</td>\n",
       "      <td>0.000000</td>\n",
       "      <td>0.0000</td>\n",
       "      <td>0.000000</td>\n",
       "      <td>1.000000</td>\n",
       "      <td>0.000000</td>\n",
       "      <td>0.000000</td>\n",
       "      <td>99.000000</td>\n",
       "      <td>...</td>\n",
       "      <td>32.000000</td>\n",
       "      <td>6700.000000</td>\n",
       "      <td>3.800000</td>\n",
       "      <td>0.000000</td>\n",
       "      <td>0.000000</td>\n",
       "      <td>0.000000</td>\n",
       "      <td>1.000000</td>\n",
       "      <td>0.00000</td>\n",
       "      <td>0.000000</td>\n",
       "      <td>0.000000</td>\n",
       "    </tr>\n",
       "    <tr>\n",
       "      <th>50%</th>\n",
       "      <td>54.000000</td>\n",
       "      <td>80.000000</td>\n",
       "      <td>1.020000</td>\n",
       "      <td>0.000000</td>\n",
       "      <td>0.0000</td>\n",
       "      <td>1.000000</td>\n",
       "      <td>1.000000</td>\n",
       "      <td>0.000000</td>\n",
       "      <td>0.000000</td>\n",
       "      <td>120.000000</td>\n",
       "      <td>...</td>\n",
       "      <td>40.000000</td>\n",
       "      <td>8400.000000</td>\n",
       "      <td>4.600000</td>\n",
       "      <td>0.000000</td>\n",
       "      <td>0.000000</td>\n",
       "      <td>0.000000</td>\n",
       "      <td>1.000000</td>\n",
       "      <td>0.00000</td>\n",
       "      <td>0.000000</td>\n",
       "      <td>1.000000</td>\n",
       "    </tr>\n",
       "    <tr>\n",
       "      <th>75%</th>\n",
       "      <td>64.000000</td>\n",
       "      <td>80.000000</td>\n",
       "      <td>1.020000</td>\n",
       "      <td>2.000000</td>\n",
       "      <td>0.0000</td>\n",
       "      <td>1.000000</td>\n",
       "      <td>1.000000</td>\n",
       "      <td>0.000000</td>\n",
       "      <td>0.000000</td>\n",
       "      <td>159.750000</td>\n",
       "      <td>...</td>\n",
       "      <td>45.000000</td>\n",
       "      <td>9825.000000</td>\n",
       "      <td>5.200000</td>\n",
       "      <td>1.000000</td>\n",
       "      <td>1.000000</td>\n",
       "      <td>0.000000</td>\n",
       "      <td>1.000000</td>\n",
       "      <td>0.00000</td>\n",
       "      <td>0.000000</td>\n",
       "      <td>1.000000</td>\n",
       "    </tr>\n",
       "    <tr>\n",
       "      <th>max</th>\n",
       "      <td>82.000000</td>\n",
       "      <td>140.000000</td>\n",
       "      <td>1.025000</td>\n",
       "      <td>5.000000</td>\n",
       "      <td>5.0000</td>\n",
       "      <td>1.000000</td>\n",
       "      <td>1.000000</td>\n",
       "      <td>1.000000</td>\n",
       "      <td>1.000000</td>\n",
       "      <td>490.000000</td>\n",
       "      <td>...</td>\n",
       "      <td>54.000000</td>\n",
       "      <td>26400.000000</td>\n",
       "      <td>8.000000</td>\n",
       "      <td>1.000000</td>\n",
       "      <td>1.000000</td>\n",
       "      <td>1.000000</td>\n",
       "      <td>1.000000</td>\n",
       "      <td>1.00000</td>\n",
       "      <td>1.000000</td>\n",
       "      <td>1.000000</td>\n",
       "    </tr>\n",
       "  </tbody>\n",
       "</table>\n",
       "<p>8 rows × 25 columns</p>\n",
       "</div>"
      ],
      "text/plain": [
       "              age          bp          sg          al        su         rbc  \\\n",
       "count  300.000000  300.000000  300.000000  300.000000  300.0000  300.000000   \n",
       "mean    50.990000   76.433333    1.017233    0.993333    0.4500    0.706667   \n",
       "std     17.339514   13.121973    0.005697    1.300870    1.0854    0.456051   \n",
       "min      2.000000   50.000000    1.005000    0.000000    0.0000    0.000000   \n",
       "25%     41.000000   70.000000    1.010000    0.000000    0.0000    0.000000   \n",
       "50%     54.000000   80.000000    1.020000    0.000000    0.0000    1.000000   \n",
       "75%     64.000000   80.000000    1.020000    2.000000    0.0000    1.000000   \n",
       "max     82.000000  140.000000    1.025000    5.000000    5.0000    1.000000   \n",
       "\n",
       "               pc         pcc          ba         bgr       ...        \\\n",
       "count  300.000000  300.000000  300.000000  300.000000       ...         \n",
       "mean     0.776667    0.103333    0.050000  147.133333       ...         \n",
       "std      0.417176    0.304902    0.218309   80.246207       ...         \n",
       "min      0.000000    0.000000    0.000000   22.000000       ...         \n",
       "25%      1.000000    0.000000    0.000000   99.000000       ...         \n",
       "50%      1.000000    0.000000    0.000000  120.000000       ...         \n",
       "75%      1.000000    0.000000    0.000000  159.750000       ...         \n",
       "max      1.000000    1.000000    1.000000  490.000000       ...         \n",
       "\n",
       "              pcv            wc          rc         htn          dm  \\\n",
       "count  300.000000    300.000000  300.000000  300.000000  300.000000   \n",
       "mean    38.646667   8642.000000    4.569667    0.346667    0.333333   \n",
       "std      8.715217   3129.934659    1.020024    0.476704    0.472192   \n",
       "min     15.000000   2200.000000    2.100000    0.000000    0.000000   \n",
       "25%     32.000000   6700.000000    3.800000    0.000000    0.000000   \n",
       "50%     40.000000   8400.000000    4.600000    0.000000    0.000000   \n",
       "75%     45.000000   9825.000000    5.200000    1.000000    1.000000   \n",
       "max     54.000000  26400.000000    8.000000    1.000000    1.000000   \n",
       "\n",
       "              cad       appet         pe         ane  classification  \n",
       "count  300.000000  300.000000  300.00000  300.000000      300.000000  \n",
       "mean     0.066667    0.790000    0.17000    0.143333        0.606667  \n",
       "std      0.249861    0.407989    0.37626    0.350998        0.489306  \n",
       "min      0.000000    0.000000    0.00000    0.000000        0.000000  \n",
       "25%      0.000000    1.000000    0.00000    0.000000        0.000000  \n",
       "50%      0.000000    1.000000    0.00000    0.000000        1.000000  \n",
       "75%      0.000000    1.000000    0.00000    0.000000        1.000000  \n",
       "max      1.000000    1.000000    1.00000    1.000000        1.000000  \n",
       "\n",
       "[8 rows x 25 columns]"
      ]
     },
     "execution_count": 3,
     "metadata": {},
     "output_type": "execute_result"
    }
   ],
   "source": [
    "data.describe()"
   ]
  },
  {
   "cell_type": "code",
   "execution_count": 4,
   "metadata": {},
   "outputs": [
    {
     "name": "stdout",
     "output_type": "stream",
     "text": [
      "<class 'pandas.core.frame.DataFrame'>\n",
      "RangeIndex: 300 entries, 0 to 299\n",
      "Data columns (total 26 columns):\n",
      "Unnamed: 0        300 non-null object\n",
      "age               300 non-null int64\n",
      "bp                300 non-null int64\n",
      "sg                300 non-null float64\n",
      "al                300 non-null int64\n",
      "su                300 non-null int64\n",
      "rbc               300 non-null int64\n",
      "pc                300 non-null int64\n",
      "pcc               300 non-null int64\n",
      "ba                300 non-null int64\n",
      "bgr               300 non-null int64\n",
      "bu                300 non-null float64\n",
      "sc                300 non-null float64\n",
      "sod               300 non-null int64\n",
      "pot               300 non-null float64\n",
      "hemo              300 non-null float64\n",
      "pcv               300 non-null int64\n",
      "wc                300 non-null int64\n",
      "rc                300 non-null float64\n",
      "htn               300 non-null int64\n",
      "dm                300 non-null int64\n",
      "cad               300 non-null int64\n",
      "appet             300 non-null int64\n",
      "pe                300 non-null int64\n",
      "ane               300 non-null int64\n",
      "classification    300 non-null int64\n",
      "dtypes: float64(6), int64(19), object(1)\n",
      "memory usage: 61.0+ KB\n"
     ]
    }
   ],
   "source": [
    "data.info()"
   ]
  },
  {
   "cell_type": "code",
   "execution_count": 5,
   "metadata": {},
   "outputs": [
    {
     "data": {
      "text/html": [
       "<div>\n",
       "<style scoped>\n",
       "    .dataframe tbody tr th:only-of-type {\n",
       "        vertical-align: middle;\n",
       "    }\n",
       "\n",
       "    .dataframe tbody tr th {\n",
       "        vertical-align: top;\n",
       "    }\n",
       "\n",
       "    .dataframe thead th {\n",
       "        text-align: right;\n",
       "    }\n",
       "</style>\n",
       "<table border=\"1\" class=\"dataframe\">\n",
       "  <thead>\n",
       "    <tr style=\"text-align: right;\">\n",
       "      <th></th>\n",
       "      <th>Total</th>\n",
       "      <th>%</th>\n",
       "    </tr>\n",
       "  </thead>\n",
       "  <tbody>\n",
       "    <tr>\n",
       "      <th>ane</th>\n",
       "      <td>0</td>\n",
       "      <td>0.0</td>\n",
       "    </tr>\n",
       "    <tr>\n",
       "      <th>pe</th>\n",
       "      <td>0</td>\n",
       "      <td>0.0</td>\n",
       "    </tr>\n",
       "    <tr>\n",
       "      <th>bp</th>\n",
       "      <td>0</td>\n",
       "      <td>0.0</td>\n",
       "    </tr>\n",
       "    <tr>\n",
       "      <th>sg</th>\n",
       "      <td>0</td>\n",
       "      <td>0.0</td>\n",
       "    </tr>\n",
       "    <tr>\n",
       "      <th>al</th>\n",
       "      <td>0</td>\n",
       "      <td>0.0</td>\n",
       "    </tr>\n",
       "  </tbody>\n",
       "</table>\n",
       "</div>"
      ],
      "text/plain": [
       "     Total    %\n",
       "ane      0  0.0\n",
       "pe       0  0.0\n",
       "bp       0  0.0\n",
       "sg       0  0.0\n",
       "al       0  0.0"
      ]
     },
     "execution_count": 5,
     "metadata": {},
     "output_type": "execute_result"
    }
   ],
   "source": [
    "# Looking at missing data\n",
    "\n",
    "total = x.isnull().sum().sort_values(ascending=False)\n",
    "percent_1 = x.isnull().sum()/x.isnull().count()*100\n",
    "percent_2 = (round(percent_1, 1)).sort_values(ascending=False)\n",
    "missing_data = pd.concat([total, percent_2], axis=1, keys=['Total', '%'])\n",
    "missing_data.head(5)"
   ]
  },
  {
   "cell_type": "markdown",
   "metadata": {},
   "source": [
    "No Missing Data. We can continue with our analysis"
   ]
  },
  {
   "cell_type": "markdown",
   "metadata": {},
   "source": [
    "### A)"
   ]
  },
  {
   "cell_type": "markdown",
   "metadata": {},
   "source": [
    "Down below, I am exploring the data using Heat map for correlation"
   ]
  },
  {
   "cell_type": "code",
   "execution_count": 6,
   "metadata": {},
   "outputs": [
    {
     "data": {
      "text/plain": [
       "<matplotlib.axes._subplots.AxesSubplot at 0x1a17abb240>"
      ]
     },
     "execution_count": 6,
     "metadata": {},
     "output_type": "execute_result"
    },
    {
     "data": {
      "image/png": "[encoded data removed]",
      "text/plain": [
       "<Figure size 720x720 with 2 Axes>"
      ]
     },
     "metadata": {
      "needs_background": "light"
     },
     "output_type": "display_data"
    }
   ],
   "source": [
    "plt.figure(figsize=(10,10)) \n",
    "sns.heatmap(data.corr())"
   ]
  },
  {
   "cell_type": "markdown",
   "metadata": {},
   "source": [
    "We can see that some features like 'sg', 'rbc', 'hemo', 'pcv' and 'rc' are negatively correlated to the classification.\n",
    "\n",
    "Other features like 'al', 'bgr', 'htn' and 'dm' has high correlation and we can interpret them as important variables in our model.\n"
   ]
  },
  {
   "cell_type": "markdown",
   "metadata": {},
   "source": [
    "We can also use selectKBest to look at important features\n"
   ]
  },
  {
   "cell_type": "code",
   "execution_count": 7,
   "metadata": {},
   "outputs": [
    {
     "name": "stdout",
     "output_type": "stream",
     "text": [
      "[7.289e+01 7.940e+01 4.329e-03 1.932e+02 8.753e+01 2.368e+01 1.156e+01\n",
      " 2.010e+01 9.725e+00 2.178e+03 1.626e+03 2.135e+02 2.098e+01 1.798e-01\n",
      " 1.096e+02 3.219e+02 1.680e+04 2.519e+01 6.743e+01 6.484e+01 1.297e+01\n",
      " 1.086e+01 3.307e+01 2.788e+01]\n",
      "[[  165.    55.    40. 11800.]\n",
      " [  171.   153.    27.  9600.]\n",
      " [   92.    29.    32.  9600.]\n",
      " [   99.    38.    49.  8300.]\n",
      " [   88.    16.    53.  9100.]]\n"
     ]
    }
   ],
   "source": [
    "from sklearn.feature_selection import SelectKBest\n",
    "from sklearn.feature_selection import chi2\n",
    "kbest = SelectKBest(score_func=chi2, k=4)\n",
    "fit = kbest.fit(x, y)\n",
    "\n",
    "# Summarizing scores\n",
    "np.set_printoptions(precision=3)\n",
    "print(fit.scores_)\n",
    "features = fit.transform(x)\n",
    "\n",
    "# Summarizing selected features\n",
    "print(features[0:5,:])"
   ]
  },
  {
   "cell_type": "markdown",
   "metadata": {},
   "source": [
    "The important features from selectKbest library are 'age', 'bp', 'al', 'pcc' as they have the highest scores\n",
    "\n",
    "\n",
    "\n",
    "The above is not used in analysis. This is just for purpose of data exploration "
   ]
  },
  {
   "cell_type": "code",
   "execution_count": 8,
   "metadata": {},
   "outputs": [
    {
     "data": {
      "text/plain": [
       "<matplotlib.axes._subplots.AxesSubplot at 0x1a181f1828>"
      ]
     },
     "execution_count": 8,
     "metadata": {},
     "output_type": "execute_result"
    },
    {
     "data": {
      "image/png": "[encoded data removed]",
      "text/plain": [
       "<Figure size 432x288 with 1 Axes>"
      ]
     },
     "metadata": {
      "needs_background": "light"
     },
     "output_type": "display_data"
    }
   ],
   "source": [
    "# Plotting all data \n",
    "\n",
    "data1 = data.loc[:,[\"age\",\"bgr\",\"hemo\",\"dm\"]]\n",
    "data1.plot()"
   ]
  },
  {
   "cell_type": "code",
   "execution_count": 9,
   "metadata": {},
   "outputs": [
    {
     "data": {
      "image/png": "[encoded data removed]",
      "text/plain": [
       "<Figure size 432x288 with 4 Axes>"
      ]
     },
     "metadata": {
      "needs_background": "light"
     },
     "output_type": "display_data"
    }
   ],
   "source": [
    "# Subplots\n",
    "\n",
    "data1.plot(subplots = True)\n",
    "plt.show()"
   ]
  },
  {
   "cell_type": "markdown",
   "metadata": {},
   "source": [
    "We can also analyze our data through the histogram plots. The below diagram shows the histogram plot for one of the variables. We can do it for as many variables as we want."
   ]
  },
  {
   "cell_type": "code",
   "execution_count": 10,
   "metadata": {},
   "outputs": [
    {
     "data": {
      "text/plain": [
       "<matplotlib.axes._subplots.AxesSubplot at 0x103fe19b0>"
      ]
     },
     "execution_count": 10,
     "metadata": {},
     "output_type": "execute_result"
    },
    {
     "data": {
      "image/png": "[encoded data removed]",
      "text/plain": [
       "<Figure size 432x288 with 1 Axes>"
      ]
     },
     "metadata": {
      "needs_background": "light"
     },
     "output_type": "display_data"
    }
   ],
   "source": [
    "# Hist plot\n",
    "\n",
    "data1.plot(kind = \"hist\",y = \"age\",bins = 50,range= (0,250),normed = True)"
   ]
  },
  {
   "cell_type": "markdown",
   "metadata": {},
   "source": [
    "From the above histogram plot we can see that highest frequency is for age 60 in our data for patients"
   ]
  },
  {
   "cell_type": "markdown",
   "metadata": {},
   "source": [
    "We can also classify our data for variables on the basis of classification, i.e if the person has kidney disease or not"
   ]
  },
  {
   "cell_type": "code",
   "execution_count": 11,
   "metadata": {},
   "outputs": [
    {
     "data": {
      "image/png": "[encoded data removed]",
      "text/plain": [
       "<Figure size 432x288 with 1 Axes>"
      ]
     },
     "metadata": {
      "needs_background": "light"
     },
     "output_type": "display_data"
    }
   ],
   "source": [
    "sns.countplot(data=x,x='rbc')\n",
    "x['rbc'].fillna('normal',inplace=True)"
   ]
  },
  {
   "cell_type": "markdown",
   "metadata": {},
   "source": [
    "### B)"
   ]
  },
  {
   "cell_type": "markdown",
   "metadata": {},
   "source": [
    "Proposing the deep learning model development plan:- \n",
    "    1. Hidden layers:  Neural network consists of an input layer where it receives inputs and output layer where it outputs. The hidden layer is a layer which is hidden in between input and output layers.This is because the output of one layer is the input of another layer. We are asked to start with minimum of 5 layers at the least. We can specify the number of hidden neurons. The number of hidden neurons should usually be between the size of the input layer and the size of the output layer. \n",
    "    In the model below, I have used 5 hidden layers, input layer where I specified the input_dim as the no. of variables/features. For the output layer I have specified activation of sigmoid.\n",
    "    \n",
    "    2. Optimizer: I will try different optimizers like SGD, Adam, adagrad, RMSprop etc. I see that Adam is giving maximum accuracy, so I chose that for my optimizer. We can also play around with the Learning rate and betas values and see what value wuld increase the accuracy.\n",
    "    lr: float >= 0. Learning rate.\n",
    "    beta_1: float, 0 < beta < 1. Generally close to 1.\n",
    "    beta_2: float, 0 < beta < 1. Generally close to 1.\n",
    "    \n",
    "    3. Regularization: I have tried Ridge regression/L2, we can also do early stopping. But in my model I am using dropout for the regularization as i find it more easy.\n",
    "    \n",
    "    4. Splitting: I have split the labeled data in to a training portion and a validation portion to check for the accueacy. The ratios I decided are 80 and 20 for train and val respectively. \n",
    "    \n",
    "    5. Activation: We can also try different activation and play with them as in try using different activation function like- tanh, sigmoid, relu and chose which give us the best accuracy\n",
    "    \n",
    "    6. Loss- There also different functions for loss and we can chose any of them. I don't thInk it matters that much. I have used binary cross entropy. I could have also use MSE, or categorical entopy etc. "
   ]
  },
  {
   "cell_type": "markdown",
   "metadata": {},
   "source": [
    "**Example of ridge regression**"
   ]
  },
  {
   "cell_type": "code",
   "execution_count": 12,
   "metadata": {},
   "outputs": [
    {
     "name": "stdout",
     "output_type": "stream",
     "text": [
      "Ridge model: -0.0 * X0 + 0.002 * X1 + -0.129 * X2 + 0.076 * X3 + 0.042 * X4 + -0.186 * X5 + 0.088 * X6 + 0.091 * X7 + -0.04 * X8 + 0.0 * X9 + -0.001 * X10 + 0.003 * X11 + -0.005 * X12 + -0.016 * X13 + -0.068 * X14 + -0.012 * X15 + 0.0 * X16 + 0.01 * X17 + 0.061 * X18 + 0.083 * X19 + -0.118 * X20 + -0.037 * X21 + 0.063 * X22 + -0.14 * X23\n"
     ]
    }
   ],
   "source": [
    "from sklearn.linear_model import Ridge\n",
    "ridge = Ridge(alpha=1.0)\n",
    "ridge.fit(x,y)\n",
    "# A helper method for pretty-printing the coefficients\n",
    "def pretty_print_coefs(coefs, names = None, sort = False):\n",
    "    if names == None:\n",
    "        names = [\"X%s\" % x for x in range(len(coefs))]\n",
    "    lst = zip(coefs, names)\n",
    "    if sort:\n",
    "        lst = sorted(lst,  key = lambda x:-np.abs(x[0]))\n",
    "    return \" + \".join(\"%s * %s\" % (round(coef, 3), name)\n",
    "                                   for coef, name in lst)\n",
    "\n",
    "print (\"Ridge model:\", pretty_print_coefs(ridge.coef_))"
   ]
  },
  {
   "cell_type": "markdown",
   "metadata": {},
   "source": [
    "**But I wouldnt be using this for regularization. I'll be using dropout feature in my model as it is more easy to call**"
   ]
  },
  {
   "cell_type": "code",
   "execution_count": 13,
   "metadata": {},
   "outputs": [
    {
     "name": "stdout",
     "output_type": "stream",
     "text": [
      "(240, 24) (240,)\n",
      "(60, 24) (60,)\n"
     ]
    }
   ],
   "source": [
    "from sklearn.preprocessing import StandardScaler\n",
    "scaler = StandardScaler()\n",
    "x = scaler.fit_transform(x)\n",
    "\n",
    "from sklearn.model_selection import train_test_split\n",
    "xtrain, xval, ytrain, yval = train_test_split(x, y, test_size=0.2, random_state = 2) # 0.2 test_size means 20%\n",
    "print(xtrain.shape, ytrain.shape)\n",
    "print(xval.shape, yval.shape)"
   ]
  },
  {
   "cell_type": "markdown",
   "metadata": {},
   "source": [
    "### C)"
   ]
  },
  {
   "cell_type": "code",
   "execution_count": 14,
   "metadata": {},
   "outputs": [
    {
     "name": "stderr",
     "output_type": "stream",
     "text": [
      "Using TensorFlow backend.\n"
     ]
    },
    {
     "name": "stdout",
     "output_type": "stream",
     "text": [
      "WARNING:tensorflow:From /Users/deepanshishokeen/anaconda3/lib/python3.7/site-packages/tensorflow/python/framework/op_def_library.py:263: colocate_with (from tensorflow.python.framework.ops) is deprecated and will be removed in a future version.\n",
      "Instructions for updating:\n",
      "Colocations handled automatically by placer.\n",
      "WARNING:tensorflow:From /Users/deepanshishokeen/anaconda3/lib/python3.7/site-packages/keras/backend/tensorflow_backend.py:3445: calling dropout (from tensorflow.python.ops.nn_ops) with keep_prob is deprecated and will be removed in a future version.\n",
      "Instructions for updating:\n",
      "Please use `rate` instead of `keep_prob`. Rate should be set to `rate = 1 - keep_prob`.\n",
      "WARNING:tensorflow:From /Users/deepanshishokeen/anaconda3/lib/python3.7/site-packages/tensorflow/python/ops/math_ops.py:3066: to_int32 (from tensorflow.python.ops.math_ops) is deprecated and will be removed in a future version.\n",
      "Instructions for updating:\n",
      "Use tf.cast instead.\n",
      "Epoch 1/50\n",
      "240/240 [==============================] - 1s 3ms/step - loss: 0.7208 - acc: 0.5125\n",
      "Epoch 2/50\n",
      "240/240 [==============================] - 0s 134us/step - loss: 0.6940 - acc: 0.5083\n",
      "Epoch 3/50\n",
      "240/240 [==============================] - 0s 155us/step - loss: 0.6801 - acc: 0.5292\n",
      "Epoch 4/50\n",
      "240/240 [==============================] - 0s 142us/step - loss: 0.6631 - acc: 0.6083\n",
      "Epoch 5/50\n",
      "240/240 [==============================] - 0s 151us/step - loss: 0.6333 - acc: 0.6208\n",
      "Epoch 6/50\n",
      "240/240 [==============================] - 0s 150us/step - loss: 0.6029 - acc: 0.6333\n",
      "Epoch 7/50\n",
      "240/240 [==============================] - 0s 122us/step - loss: 0.5399 - acc: 0.6250\n",
      "Epoch 8/50\n",
      "240/240 [==============================] - 0s 130us/step - loss: 0.4471 - acc: 0.6875\n",
      "Epoch 9/50\n",
      "240/240 [==============================] - 0s 116us/step - loss: 0.4006 - acc: 0.7167\n",
      "Epoch 10/50\n",
      "240/240 [==============================] - 0s 133us/step - loss: 0.3147 - acc: 0.8500\n",
      "Epoch 11/50\n",
      "240/240 [==============================] - 0s 130us/step - loss: 0.2764 - acc: 0.8708\n",
      "Epoch 12/50\n",
      "240/240 [==============================] - 0s 133us/step - loss: 0.2168 - acc: 0.9292\n",
      "Epoch 13/50\n",
      "240/240 [==============================] - 0s 122us/step - loss: 0.1695 - acc: 0.9542\n",
      "Epoch 14/50\n",
      "240/240 [==============================] - 0s 132us/step - loss: 0.1405 - acc: 0.9583\n",
      "Epoch 15/50\n",
      "240/240 [==============================] - 0s 116us/step - loss: 0.0864 - acc: 0.9833\n",
      "Epoch 16/50\n",
      "240/240 [==============================] - 0s 124us/step - loss: 0.0724 - acc: 0.9875\n",
      "Epoch 17/50\n",
      "240/240 [==============================] - 0s 134us/step - loss: 0.0849 - acc: 0.9667\n",
      "Epoch 18/50\n",
      "240/240 [==============================] - 0s 145us/step - loss: 0.0786 - acc: 0.9917\n",
      "Epoch 19/50\n",
      "240/240 [==============================] - 0s 161us/step - loss: 0.0619 - acc: 0.9792\n",
      "Epoch 20/50\n",
      "240/240 [==============================] - 0s 191us/step - loss: 0.0639 - acc: 0.9875\n",
      "Epoch 21/50\n",
      "240/240 [==============================] - 0s 145us/step - loss: 0.0681 - acc: 0.9708\n",
      "Epoch 22/50\n",
      "240/240 [==============================] - 0s 174us/step - loss: 0.0308 - acc: 0.9917\n",
      "Epoch 23/50\n",
      "240/240 [==============================] - 0s 124us/step - loss: 0.0605 - acc: 0.9750\n",
      "Epoch 24/50\n",
      "240/240 [==============================] - 0s 143us/step - loss: 0.0757 - acc: 0.9875\n",
      "Epoch 25/50\n",
      "240/240 [==============================] - 0s 133us/step - loss: 0.0490 - acc: 0.9833\n",
      "Epoch 26/50\n",
      "240/240 [==============================] - 0s 129us/step - loss: 0.0570 - acc: 0.9875\n",
      "Epoch 27/50\n",
      "240/240 [==============================] - 0s 125us/step - loss: 0.0966 - acc: 0.9833\n",
      "Epoch 28/50\n",
      "240/240 [==============================] - 0s 122us/step - loss: 0.0258 - acc: 0.9958\n",
      "Epoch 29/50\n",
      "240/240 [==============================] - 0s 153us/step - loss: 0.0686 - acc: 0.9958\n",
      "Epoch 30/50\n",
      "240/240 [==============================] - 0s 125us/step - loss: 0.0335 - acc: 0.9875\n",
      "Epoch 31/50\n",
      "240/240 [==============================] - 0s 135us/step - loss: 0.0520 - acc: 0.9875\n",
      "Epoch 32/50\n",
      "240/240 [==============================] - 0s 124us/step - loss: 0.0421 - acc: 0.9875\n",
      "Epoch 33/50\n",
      "240/240 [==============================] - 0s 145us/step - loss: 0.0363 - acc: 0.9917\n",
      "Epoch 34/50\n",
      "240/240 [==============================] - 0s 122us/step - loss: 0.0299 - acc: 0.9917\n",
      "Epoch 35/50\n",
      "240/240 [==============================] - 0s 121us/step - loss: 0.0293 - acc: 0.9958\n",
      "Epoch 36/50\n",
      "240/240 [==============================] - 0s 126us/step - loss: 0.0140 - acc: 1.0000\n",
      "Epoch 37/50\n",
      "240/240 [==============================] - 0s 131us/step - loss: 0.0327 - acc: 0.9875\n",
      "Epoch 38/50\n",
      "240/240 [==============================] - 0s 133us/step - loss: 0.0107 - acc: 1.0000\n",
      "Epoch 39/50\n",
      "240/240 [==============================] - 0s 109us/step - loss: 0.0446 - acc: 0.9917\n",
      "Epoch 40/50\n",
      "240/240 [==============================] - 0s 118us/step - loss: 0.0123 - acc: 1.0000\n",
      "Epoch 41/50\n",
      "240/240 [==============================] - 0s 127us/step - loss: 0.0454 - acc: 0.9958\n",
      "Epoch 42/50\n",
      "240/240 [==============================] - 0s 138us/step - loss: 0.0192 - acc: 0.9917\n",
      "Epoch 43/50\n",
      "240/240 [==============================] - 0s 108us/step - loss: 0.0184 - acc: 0.9917\n",
      "Epoch 44/50\n",
      "240/240 [==============================] - 0s 120us/step - loss: 0.0138 - acc: 0.9958\n",
      "Epoch 45/50\n",
      "240/240 [==============================] - 0s 129us/step - loss: 0.0260 - acc: 0.9917\n",
      "Epoch 46/50\n",
      "240/240 [==============================] - 0s 130us/step - loss: 0.0427 - acc: 0.9917\n",
      "Epoch 47/50\n",
      "240/240 [==============================] - 0s 122us/step - loss: 0.0230 - acc: 0.9958\n",
      "Epoch 48/50\n",
      "240/240 [==============================] - 0s 106us/step - loss: 0.0126 - acc: 1.0000\n",
      "Epoch 49/50\n",
      "240/240 [==============================] - 0s 133us/step - loss: 0.0151 - acc: 0.9958\n",
      "Epoch 50/50\n",
      "240/240 [==============================] - 0s 128us/step - loss: 0.0080 - acc: 0.9958\n",
      "60/60 [==============================] - 0s 3ms/step\n"
     ]
    }
   ],
   "source": [
    "import numpy as np\n",
    "import keras\n",
    "from keras.models import Sequential\n",
    "from keras.layers import Dense, Dropout\n",
    "\n",
    "model = Sequential()\n",
    "model.add(Dense(128, input_dim=24, activation='relu'))#input layer\n",
    "model.add(Dropout(0.3))\n",
    "model.add(Dense(64, activation='relu'))#hidden layer\n",
    "model.add(Dropout(0.3))\n",
    "model.add(Dense(64, activation='relu'))#hidden layer\n",
    "model.add(Dropout(0.3))\n",
    "model.add(Dense(32, activation='relu'))#hidden layer\n",
    "model.add(Dropout(0.3))\n",
    "model.add(Dense(32, activation='relu'))#hidden layer\n",
    "model.add(Dropout(0.3))\n",
    "model.add(Dense(32, activation='relu'))#hidden layer\n",
    "model.add(Dropout(0.3))\n",
    "model.add(Dense(16, activation='relu'))#hidden layer\n",
    "model.add(Dropout(0.3))\n",
    "model.add(Dense(1, activation='sigmoid'))\n",
    "#optimizer=keras.optimizers.Adam(lr=0.001, beta_1=0.9, beta_2=0.999, epsilon=None, decay=0.0, amsgrad=False)\n",
    "optimizer=keras.optimizers.Adam(lr=0.001)\n",
    "model.compile(loss='binary_crossentropy',  #can use 'mse' also \n",
    "              optimizer=optimizer,\n",
    "              metrics=['accuracy'])\n",
    "model.fit(xtrain, ytrain,\n",
    "          epochs=50,\n",
    "          batch_size=32)\n",
    "score = model.evaluate(xval, yval, batch_size=32)"
   ]
  },
  {
   "cell_type": "code",
   "execution_count": 15,
   "metadata": {},
   "outputs": [
    {
     "name": "stdout",
     "output_type": "stream",
     "text": [
      "Train on 192 samples, validate on 48 samples\n",
      "Epoch 1/50\n",
      "192/192 [==============================] - 0s 152us/step - loss: 0.0111 - acc: 0.9948 - val_loss: 7.4975e-06 - val_acc: 1.0000\n",
      "Epoch 2/50\n",
      "192/192 [==============================] - 0s 296us/step - loss: 0.0102 - acc: 0.9948 - val_loss: 6.0786e-06 - val_acc: 1.0000\n",
      "Epoch 3/50\n",
      "192/192 [==============================] - 0s 178us/step - loss: 0.0042 - acc: 1.0000 - val_loss: 5.1193e-06 - val_acc: 1.0000\n",
      "Epoch 4/50\n",
      "192/192 [==============================] - 0s 155us/step - loss: 0.0857 - acc: 0.9896 - val_loss: 8.7289e-06 - val_acc: 1.0000\n",
      "Epoch 5/50\n",
      "192/192 [==============================] - 0s 195us/step - loss: 0.0052 - acc: 1.0000 - val_loss: 1.3371e-05 - val_acc: 1.0000\n",
      "Epoch 6/50\n",
      "192/192 [==============================] - 0s 171us/step - loss: 0.0024 - acc: 1.0000 - val_loss: 1.5872e-05 - val_acc: 1.0000\n",
      "Epoch 7/50\n",
      "192/192 [==============================] - 0s 210us/step - loss: 0.0077 - acc: 0.9948 - val_loss: 2.0429e-05 - val_acc: 1.0000\n",
      "Epoch 8/50\n",
      "192/192 [==============================] - 0s 198us/step - loss: 0.0025 - acc: 1.0000 - val_loss: 2.8635e-05 - val_acc: 1.0000\n",
      "Epoch 9/50\n",
      "192/192 [==============================] - 0s 176us/step - loss: 0.0039 - acc: 1.0000 - val_loss: 3.1079e-05 - val_acc: 1.0000\n",
      "Epoch 10/50\n",
      "192/192 [==============================] - 0s 165us/step - loss: 0.0079 - acc: 0.9948 - val_loss: 2.9130e-05 - val_acc: 1.0000\n",
      "Epoch 11/50\n",
      "192/192 [==============================] - 0s 149us/step - loss: 0.0090 - acc: 1.0000 - val_loss: 2.5384e-05 - val_acc: 1.0000\n",
      "Epoch 12/50\n",
      "192/192 [==============================] - 0s 148us/step - loss: 0.0013 - acc: 1.0000 - val_loss: 2.1178e-05 - val_acc: 1.0000\n",
      "Epoch 13/50\n",
      "192/192 [==============================] - 0s 159us/step - loss: 0.0065 - acc: 1.0000 - val_loss: 1.3540e-05 - val_acc: 1.0000\n",
      "Epoch 14/50\n",
      "192/192 [==============================] - 0s 169us/step - loss: 5.8005e-04 - acc: 1.0000 - val_loss: 9.8696e-06 - val_acc: 1.0000\n",
      "Epoch 15/50\n",
      "192/192 [==============================] - 0s 177us/step - loss: 5.4619e-04 - acc: 1.0000 - val_loss: 8.0060e-06 - val_acc: 1.0000\n",
      "Epoch 16/50\n",
      "192/192 [==============================] - 0s 206us/step - loss: 0.0068 - acc: 0.9948 - val_loss: 6.8926e-06 - val_acc: 1.0000\n",
      "Epoch 17/50\n",
      "192/192 [==============================] - 0s 163us/step - loss: 0.0155 - acc: 0.9948 - val_loss: 9.0609e-06 - val_acc: 1.0000\n",
      "Epoch 18/50\n",
      "192/192 [==============================] - 0s 180us/step - loss: 0.0034 - acc: 1.0000 - val_loss: 1.3997e-05 - val_acc: 1.0000\n",
      "Epoch 19/50\n",
      "192/192 [==============================] - 0s 155us/step - loss: 0.0021 - acc: 1.0000 - val_loss: 1.5701e-05 - val_acc: 1.0000\n",
      "Epoch 20/50\n",
      "192/192 [==============================] - 0s 172us/step - loss: 0.0017 - acc: 1.0000 - val_loss: 1.4863e-05 - val_acc: 1.0000\n",
      "Epoch 21/50\n",
      "192/192 [==============================] - 0s 163us/step - loss: 0.0046 - acc: 1.0000 - val_loss: 1.9315e-05 - val_acc: 1.0000\n",
      "Epoch 22/50\n",
      "192/192 [==============================] - 0s 129us/step - loss: 0.0024 - acc: 1.0000 - val_loss: 1.8347e-05 - val_acc: 1.0000\n",
      "Epoch 23/50\n",
      "192/192 [==============================] - 0s 167us/step - loss: 0.0028 - acc: 1.0000 - val_loss: 1.7054e-05 - val_acc: 1.0000\n",
      "Epoch 24/50\n",
      "192/192 [==============================] - 0s 153us/step - loss: 0.0053 - acc: 0.9948 - val_loss: 1.5120e-05 - val_acc: 1.0000\n",
      "Epoch 25/50\n",
      "192/192 [==============================] - 0s 142us/step - loss: 0.0059 - acc: 1.0000 - val_loss: 2.1933e-05 - val_acc: 1.0000\n",
      "Epoch 26/50\n",
      "192/192 [==============================] - 0s 156us/step - loss: 0.0024 - acc: 1.0000 - val_loss: 2.9110e-05 - val_acc: 1.0000\n",
      "Epoch 27/50\n",
      "192/192 [==============================] - 0s 164us/step - loss: 0.0022 - acc: 1.0000 - val_loss: 3.1429e-05 - val_acc: 1.0000\n",
      "Epoch 28/50\n",
      "192/192 [==============================] - 0s 155us/step - loss: 0.0014 - acc: 1.0000 - val_loss: 2.9249e-05 - val_acc: 1.0000\n",
      "Epoch 29/50\n",
      "192/192 [==============================] - 0s 132us/step - loss: 0.0010 - acc: 1.0000 - val_loss: 2.2423e-05 - val_acc: 1.0000\n",
      "Epoch 30/50\n",
      "192/192 [==============================] - 0s 223us/step - loss: 0.0047 - acc: 1.0000 - val_loss: 1.4131e-05 - val_acc: 1.0000\n",
      "Epoch 31/50\n",
      "192/192 [==============================] - 0s 140us/step - loss: 0.0079 - acc: 0.9948 - val_loss: 7.6580e-06 - val_acc: 1.0000\n",
      "Epoch 32/50\n",
      "192/192 [==============================] - 0s 153us/step - loss: 0.0024 - acc: 1.0000 - val_loss: 4.7081e-06 - val_acc: 1.0000\n",
      "Epoch 33/50\n",
      "192/192 [==============================] - 0s 136us/step - loss: 5.6236e-04 - acc: 1.0000 - val_loss: 3.8791e-06 - val_acc: 1.0000\n",
      "Epoch 34/50\n",
      "192/192 [==============================] - 0s 145us/step - loss: 7.2864e-04 - acc: 1.0000 - val_loss: 3.3680e-06 - val_acc: 1.0000\n",
      "Epoch 35/50\n",
      "192/192 [==============================] - 0s 160us/step - loss: 0.0016 - acc: 1.0000 - val_loss: 2.9042e-06 - val_acc: 1.0000\n",
      "Epoch 36/50\n",
      "192/192 [==============================] - 0s 183us/step - loss: 5.8453e-04 - acc: 1.0000 - val_loss: 2.6030e-06 - val_acc: 1.0000\n",
      "Epoch 37/50\n",
      "192/192 [==============================] - 0s 157us/step - loss: 0.0099 - acc: 0.9948 - val_loss: 5.6828e-07 - val_acc: 1.0000\n",
      "Epoch 38/50\n",
      "192/192 [==============================] - 0s 171us/step - loss: 0.0040 - acc: 1.0000 - val_loss: 1.4030e-07 - val_acc: 1.0000\n",
      "Epoch 39/50\n",
      "192/192 [==============================] - 0s 157us/step - loss: 5.9973e-04 - acc: 1.0000 - val_loss: 1.1857e-07 - val_acc: 1.0000\n",
      "Epoch 40/50\n",
      "192/192 [==============================] - 0s 251us/step - loss: 0.0011 - acc: 1.0000 - val_loss: 1.1445e-07 - val_acc: 1.0000\n",
      "Epoch 41/50\n",
      "192/192 [==============================] - 0s 176us/step - loss: 0.0256 - acc: 0.9948 - val_loss: 1.3285e-07 - val_acc: 1.0000\n",
      "Epoch 42/50\n",
      "192/192 [==============================] - 0s 160us/step - loss: 0.0034 - acc: 1.0000 - val_loss: 3.3837e-07 - val_acc: 1.0000\n",
      "Epoch 43/50\n",
      "192/192 [==============================] - 0s 148us/step - loss: 0.0118 - acc: 0.9948 - val_loss: 1.5884e-06 - val_acc: 1.0000\n",
      "Epoch 44/50\n",
      "192/192 [==============================] - 0s 150us/step - loss: 3.8217e-04 - acc: 1.0000 - val_loss: 6.5657e-06 - val_acc: 1.0000\n",
      "Epoch 45/50\n",
      "192/192 [==============================] - 0s 130us/step - loss: 0.0019 - acc: 1.0000 - val_loss: 1.3984e-05 - val_acc: 1.0000\n",
      "Epoch 46/50\n",
      "192/192 [==============================] - 0s 150us/step - loss: 0.0063 - acc: 1.0000 - val_loss: 1.5872e-05 - val_acc: 1.0000\n",
      "Epoch 47/50\n",
      "192/192 [==============================] - 0s 135us/step - loss: 3.8115e-04 - acc: 1.0000 - val_loss: 8.3954e-06 - val_acc: 1.0000\n",
      "Epoch 48/50\n",
      "192/192 [==============================] - 0s 120us/step - loss: 0.0019 - acc: 1.0000 - val_loss: 5.7776e-06 - val_acc: 1.0000\n",
      "Epoch 49/50\n",
      "192/192 [==============================] - 0s 127us/step - loss: 0.0033 - acc: 1.0000 - val_loss: 4.5430e-06 - val_acc: 1.0000\n",
      "Epoch 50/50\n",
      "192/192 [==============================] - 0s 122us/step - loss: 0.0056 - acc: 0.9948 - val_loss: 3.8735e-06 - val_acc: 1.0000\n"
     ]
    },
    {
     "data": {
      "image/png": "[encoded data removed]",
      "text/plain": [
       "<Figure size 432x288 with 1 Axes>"
      ]
     },
     "metadata": {
      "needs_background": "light"
     },
     "output_type": "display_data"
    },
    {
     "data": {
      "image/png": "[encoded data removed]",
      "text/plain": [
       "<Figure size 432x288 with 1 Axes>"
      ]
     },
     "metadata": {
      "needs_background": "light"
     },
     "output_type": "display_data"
    }
   ],
   "source": [
    "import matplotlib.pyplot as plt\n",
    "\n",
    "history = model.fit(xtrain, ytrain, validation_split=0.20, epochs=50, batch_size=32, verbose=1)\n",
    "\n",
    "# Plot training & validation accuracy values\n",
    "plt.plot(history.history['acc'])\n",
    "plt.plot(history.history['val_acc'])\n",
    "plt.title('Model accuracy')\n",
    "plt.ylabel('Accuracy')\n",
    "plt.xlabel('Epoch')\n",
    "plt.legend(['Train', 'Test'], loc='upper left')\n",
    "plt.show()\n",
    "\n",
    "# Plot training & validation loss values\n",
    "plt.plot(history.history['loss'])\n",
    "plt.plot(history.history['val_loss'])\n",
    "plt.title('Model loss')\n",
    "plt.ylabel('Loss')\n",
    "plt.xlabel('Epoch')\n",
    "plt.legend(['Train', 'Test'], loc='upper left')\n",
    "plt.show()"
   ]
  },
  {
   "cell_type": "markdown",
   "metadata": {},
   "source": [
    "### D)"
   ]
  },
  {
   "cell_type": "code",
   "execution_count": 16,
   "metadata": {},
   "outputs": [
    {
     "name": "stdout",
     "output_type": "stream",
     "text": [
      "Confusion Matrix : \n",
      " [[24  0]\n",
      " [ 0 36]]\n"
     ]
    }
   ],
   "source": [
    "from sklearn.metrics import confusion_matrix\n",
    "predict=model.predict_classes(xval)\n",
    "cm1 = confusion_matrix(yval,predict)\n",
    "print('Confusion Matrix : \\n', cm1)"
   ]
  },
  {
   "cell_type": "code",
   "execution_count": 17,
   "metadata": {},
   "outputs": [
    {
     "name": "stdout",
     "output_type": "stream",
     "text": [
      "              precision    recall  f1-score   support\n",
      "\n",
      "           0       1.00      1.00      1.00        24\n",
      "           1       1.00      1.00      1.00        36\n",
      "\n",
      "   micro avg       1.00      1.00      1.00        60\n",
      "   macro avg       1.00      1.00      1.00        60\n",
      "weighted avg       1.00      1.00      1.00        60\n",
      "\n"
     ]
    }
   ],
   "source": [
    "from sklearn.metrics import classification_report\n",
    "print(classification_report(yval,predict))"
   ]
  },
  {
   "cell_type": "code",
   "execution_count": 18,
   "metadata": {},
   "outputs": [
    {
     "name": "stdout",
     "output_type": "stream",
     "text": [
      "Accuracy :  1.0\n",
      "Recall :  1.0\n",
      "Precision :  1.0\n",
      "True positive rate :  1.0\n",
      "False positive rate :  0.0\n"
     ]
    }
   ],
   "source": [
    "total1=sum(sum(cm1))\n",
    "\n",
    "# From confusion matrix calculate accuracy\n",
    "accuracy1=(cm1[0,0]+cm1[1,1])/total1\n",
    "print ('Accuracy : ', accuracy1)\n",
    "recall = cm1[0,0]/(cm1[0,0]+cm1[0,1])\n",
    "print('Recall : ', recall )# tpr, recall=tp/tp+fn\n",
    "precision = cm1[0,0]/(cm1[0,0]+cm1[1,0])# tp/tp+fp\n",
    "print('Precision : ', precision)\n",
    "recall = cm1[0,0]/(cm1[0,0]+cm1[0,1])\n",
    "print('True positive rate : ', recall )# tpr, recall=tp/tp+fn\n",
    "fpr=cm1[1,0]/(cm1[1,0]+cm1[1,1])# fp/fp+tn\n",
    "print('False positive rate : ', fpr)"
   ]
  },
  {
   "cell_type": "markdown",
   "metadata": {},
   "source": [
    "### E)"
   ]
  },
  {
   "cell_type": "code",
   "execution_count": 19,
   "metadata": {},
   "outputs": [
    {
     "data": {
      "text/html": [
       "<div>\n",
       "<style scoped>\n",
       "    .dataframe tbody tr th:only-of-type {\n",
       "        vertical-align: middle;\n",
       "    }\n",
       "\n",
       "    .dataframe tbody tr th {\n",
       "        vertical-align: top;\n",
       "    }\n",
       "\n",
       "    .dataframe thead th {\n",
       "        text-align: right;\n",
       "    }\n",
       "</style>\n",
       "<table border=\"1\" class=\"dataframe\">\n",
       "  <thead>\n",
       "    <tr style=\"text-align: right;\">\n",
       "      <th></th>\n",
       "      <th>classification</th>\n",
       "    </tr>\n",
       "  </thead>\n",
       "  <tbody>\n",
       "    <tr>\n",
       "      <th>0</th>\n",
       "      <td>1</td>\n",
       "    </tr>\n",
       "    <tr>\n",
       "      <th>1</th>\n",
       "      <td>1</td>\n",
       "    </tr>\n",
       "    <tr>\n",
       "      <th>2</th>\n",
       "      <td>1</td>\n",
       "    </tr>\n",
       "  </tbody>\n",
       "</table>\n",
       "</div>"
      ],
      "text/plain": [
       "   classification\n",
       "0               1\n",
       "1               1\n",
       "2               1"
      ]
     },
     "execution_count": 19,
     "metadata": {},
     "output_type": "execute_result"
    }
   ],
   "source": [
    "# Scaling the test data before prediction\n",
    "test = scaler.fit_transform(test)\n",
    "pred_test = model.predict_classes(test)\n",
    "df = pd.DataFrame(pred_test)\n",
    "df.columns =['classification']\n",
    "df.head(3)"
   ]
  },
  {
   "cell_type": "code",
   "execution_count": 20,
   "metadata": {},
   "outputs": [],
   "source": [
    "# Saving the output in .csv file \n",
    "df.to_csv('F003KYJ_prediction.csv', encoding='utf-8', index=False)"
   ]
  },
  {
   "cell_type": "markdown",
   "metadata": {},
   "source": [
    "### PART 2"
   ]
  },
  {
   "cell_type": "code",
   "execution_count": 21,
   "metadata": {},
   "outputs": [
    {
     "data": {
      "text/plain": [
       "(801, 20530)"
      ]
     },
     "execution_count": 21,
     "metadata": {},
     "output_type": "execute_result"
    }
   ],
   "source": [
    "x=pd.read_csv('data.csv')\n",
    "x=x.iloc[:,2:]\n",
    "y=pd.read_csv('labels.csv')\n",
    "y=y.iloc[:,1]\n",
    "x.shape"
   ]
  },
  {
   "cell_type": "code",
   "execution_count": 22,
   "metadata": {
    "scrolled": true
   },
   "outputs": [
    {
     "name": "stdout",
     "output_type": "stream",
     "text": [
      "[t-SNE] Computing 121 nearest neighbors...\n",
      "[t-SNE] Indexed 801 samples in 0.471s...\n",
      "[t-SNE] Computed neighbors for 801 samples in 21.138s...\n",
      "[t-SNE] Computed conditional probabilities for sample 801 / 801\n",
      "[t-SNE] Mean sigma: 48.192153\n",
      "[t-SNE] KL divergence after 250 iterations with early exaggeration: 57.865620\n",
      "[t-SNE] KL divergence after 300 iterations: 0.738668\n",
      "t-SNE done! Time elapsed: 24.303140878677368 seconds\n"
     ]
    }
   ],
   "source": [
    "time_start = time.time()\n",
    "tsne_result=TSNE(n_components=2, verbose=1, perplexity=40, n_iter=300).fit_transform(x)\n",
    "print ('t-SNE done! Time elapsed: {} seconds'.format(time.time()-time_start))"
   ]
  },
  {
   "cell_type": "code",
   "execution_count": 23,
   "metadata": {},
   "outputs": [
    {
     "data": {
      "text/plain": [
       "<matplotlib.legend.Legend at 0x1143400b8>"
      ]
     },
     "execution_count": 23,
     "metadata": {},
     "output_type": "execute_result"
    },
    {
     "data": {
      "image/png": "[encoded data removed]",
      "text/plain": [
       "<Figure size 432x288 with 1 Axes>"
      ]
     },
     "metadata": {
      "needs_background": "light"
     },
     "output_type": "display_data"
    }
   ],
   "source": [
    "a=np.unique(y)\n",
    "for i in a:\n",
    "    xx=tsne_result[y==i,0]\n",
    "    yy=tsne_result[y==i,1]\n",
    "    plt.scatter (xx,yy,lw=0.1,label=i)\n",
    "plt.title('t-SNE for pancancer data')\n",
    "plt.xlabel('t-SNE1')\n",
    "plt.ylabel('t-SNE2')\n",
    "plt.legend()"
   ]
  },
  {
   "cell_type": "markdown",
   "metadata": {},
   "source": [
    "t-Distributed Stochastic Neighbor Embedding (t-SNE) is a non-linear technique for dimensionality reduction that is particularly well suited for the visualization of high-dimensional datasets. \n",
    "\n",
    "We can see a LUAD(red dot) in BRCA (blue) cluster and one PRAD(purple dot) gene in BRCA. \n",
    "But overall, we see clear 5 clusters from the the first two t-SNE components. The t-SNE algorithm has thus been successful in clearly separating into 5 groups and mapping the multi-dimensional data to a lower dimensional space  "
   ]
  }
 ],
 "metadata": {
  "kernelspec": {
   "display_name": "Python 3",
   "language": "python",
   "name": "python3"
  },
  "language_info": {
   "codemirror_mode": {
    "name": "ipython",
    "version": 3
   },
   "file_extension": ".py",
   "mimetype": "text/x-python",
   "name": "python",
   "nbconvert_exporter": "python",
   "pygments_lexer": "ipython3",
   "version": "3.7.2"
  }
 },
 "nbformat": 4,
 "nbformat_minor": 2
}
